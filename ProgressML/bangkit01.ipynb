{
  "nbformat": 4,
  "nbformat_minor": 0,
  "metadata": {
    "colab": {
      "name": "bangkit01.ipynb",
      "provenance": []
    },
    "kernelspec": {
      "display_name": "Python 3",
      "name": "python3"
    }
  },
  "cells": [
    {
      "cell_type": "code",
      "metadata": {
        "id": "H5kJBZfy5JEP"
      },
      "source": [
        "import pandas as pd\n",
        "import numpy as np\n",
        "import os\n"
      ],
      "execution_count": null,
      "outputs": []
    },
    {
      "cell_type": "code",
      "metadata": {
        "id": "MMDxjz-AQMbZ"
      },
      "source": [
        "df = pd.read_csv( '/content/sample_data/rating.csv' , sep=';' )"
      ],
      "execution_count": null,
      "outputs": []
    },
    {
      "cell_type": "code",
      "metadata": {
        "colab": {
          "base_uri": "https://localhost:8080/",
          "height": 406
        },
        "id": "OaF32RwnqQV9",
        "outputId": "2236b34a-ec91-4ce7-a043-64a62cec325e"
      },
      "source": [
        "df"
      ],
      "execution_count": null,
      "outputs": [
        {
          "output_type": "execute_result",
          "data": {
            "text/html": [
              "<div>\n",
              "<style scoped>\n",
              "    .dataframe tbody tr th:only-of-type {\n",
              "        vertical-align: middle;\n",
              "    }\n",
              "\n",
              "    .dataframe tbody tr th {\n",
              "        vertical-align: top;\n",
              "    }\n",
              "\n",
              "    .dataframe thead th {\n",
              "        text-align: right;\n",
              "    }\n",
              "</style>\n",
              "<table border=\"1\" class=\"dataframe\">\n",
              "  <thead>\n",
              "    <tr style=\"text-align: right;\">\n",
              "      <th></th>\n",
              "      <th>Review</th>\n",
              "      <th>Star</th>\n",
              "    </tr>\n",
              "  </thead>\n",
              "  <tbody>\n",
              "    <tr>\n",
              "      <th>0</th>\n",
              "      <td>Sistem online tapi website sangat lemot padaha...</td>\n",
              "      <td>0</td>\n",
              "    </tr>\n",
              "    <tr>\n",
              "      <th>1</th>\n",
              "      <td>Pelayanan lama banget. Udah jam 8.20 loket mas...</td>\n",
              "      <td>0</td>\n",
              "    </tr>\n",
              "    <tr>\n",
              "      <th>2</th>\n",
              "      <td>susah banget dihubunginnya, bingung harus hubu...</td>\n",
              "      <td>0</td>\n",
              "    </tr>\n",
              "    <tr>\n",
              "      <th>3</th>\n",
              "      <td>percuma online gak bakalan bisa solusi nya cum...</td>\n",
              "      <td>0</td>\n",
              "    </tr>\n",
              "    <tr>\n",
              "      <th>4</th>\n",
              "      <td>Prosesnya berbelit.  Harus daftar online untuk...</td>\n",
              "      <td>0</td>\n",
              "    </tr>\n",
              "    <tr>\n",
              "      <th>...</th>\n",
              "      <td>...</td>\n",
              "      <td>...</td>\n",
              "    </tr>\n",
              "    <tr>\n",
              "      <th>985</th>\n",
              "      <td>I like it\\n(Diterjemahkan oleh Google)\\nsaya s...</td>\n",
              "      <td>1</td>\n",
              "    </tr>\n",
              "    <tr>\n",
              "      <th>986</th>\n",
              "      <td>ok\\n(Diterjemahkan oleh Google)\\nbaik</td>\n",
              "      <td>1</td>\n",
              "    </tr>\n",
              "    <tr>\n",
              "      <th>987</th>\n",
              "      <td>Bad services\\n(Diterjemahkan oleh Google)\\nLay...</td>\n",
              "      <td>0</td>\n",
              "    </tr>\n",
              "    <tr>\n",
              "      <th>988</th>\n",
              "      <td>(Diterjemahkan oleh Google) buat ktp panjang k...</td>\n",
              "      <td>0</td>\n",
              "    </tr>\n",
              "    <tr>\n",
              "      <th>989</th>\n",
              "      <td>(Diterjemahkan oleh Google) tidak\\n(Asli)\\nPas</td>\n",
              "      <td>1</td>\n",
              "    </tr>\n",
              "  </tbody>\n",
              "</table>\n",
              "<p>990 rows × 2 columns</p>\n",
              "</div>"
            ],
            "text/plain": [
              "                                                Review  Star\n",
              "0    Sistem online tapi website sangat lemot padaha...     0\n",
              "1    Pelayanan lama banget. Udah jam 8.20 loket mas...     0\n",
              "2    susah banget dihubunginnya, bingung harus hubu...     0\n",
              "3    percuma online gak bakalan bisa solusi nya cum...     0\n",
              "4    Prosesnya berbelit.  Harus daftar online untuk...     0\n",
              "..                                                 ...   ...\n",
              "985  I like it\\n(Diterjemahkan oleh Google)\\nsaya s...     1\n",
              "986              ok\\n(Diterjemahkan oleh Google)\\nbaik     1\n",
              "987  Bad services\\n(Diterjemahkan oleh Google)\\nLay...     0\n",
              "988  (Diterjemahkan oleh Google) buat ktp panjang k...     0\n",
              "989     (Diterjemahkan oleh Google) tidak\\n(Asli)\\nPas     1\n",
              "\n",
              "[990 rows x 2 columns]"
            ]
          },
          "metadata": {
            "tags": []
          },
          "execution_count": 23
        }
      ]
    },
    {
      "cell_type": "code",
      "metadata": {
        "id": "yYSitYqpF48f"
      },
      "source": [
        "#df.to_csv(\"dataset_pilkada_ok.csv\")"
      ],
      "execution_count": null,
      "outputs": []
    },
    {
      "cell_type": "code",
      "metadata": {
        "id": "nzwHQbBzoUyG"
      },
      "source": [
        "df['label'] = df['Star'].astype(np.int64)\n",
        "#df = df.drop([\"Unnamed: 0\"],axis=1)"
      ],
      "execution_count": null,
      "outputs": []
    },
    {
      "cell_type": "code",
      "metadata": {
        "colab": {
          "base_uri": "https://localhost:8080/"
        },
        "id": "YT18gdqCnzY_",
        "outputId": "fdad17d5-2d85-4d5b-9c1c-1bfb6610c72c"
      },
      "source": [
        "df.dtypes"
      ],
      "execution_count": null,
      "outputs": [
        {
          "output_type": "execute_result",
          "data": {
            "text/plain": [
              "Review    object\n",
              "Star       int64\n",
              "label      int64\n",
              "dtype: object"
            ]
          },
          "metadata": {
            "tags": []
          },
          "execution_count": 26
        }
      ]
    },
    {
      "cell_type": "code",
      "metadata": {
        "id": "G_VbYBUFqvBN"
      },
      "source": [
        "import re\n",
        "#menghapus RT\n",
        "df.Review = df.Review.str.replace(r'RT', '')\n",
        "#menghapus \\n\n",
        "df.Review = df.Review.str.replace(r'\\n', '')\n",
        "#menghapus link\n",
        "df.Review = df.Review.str.replace(r'https?:\\/\\/.*[\\r\\n]*',' ')\n",
        "#menghapus tanda mata uang dolar dll\n",
        "df.Review = df.Review.str.replace(r'\\$\\w*',' ')"
      ],
      "execution_count": null,
      "outputs": []
    },
    {
      "cell_type": "code",
      "metadata": {
        "id": "NqPoQF40792r"
      },
      "source": [
        "#lower case semua text\n",
        "df['Review'] = df['Review'].str.lower()"
      ],
      "execution_count": null,
      "outputs": []
    },
    {
      "cell_type": "code",
      "metadata": {
        "colab": {
          "base_uri": "https://localhost:8080/",
          "height": 197
        },
        "id": "TsOBt5I4syQr",
        "outputId": "5e10eff4-6d6d-49f6-a450-91db3377bc57"
      },
      "source": [
        "df.tail()"
      ],
      "execution_count": null,
      "outputs": [
        {
          "output_type": "execute_result",
          "data": {
            "text/html": [
              "<div>\n",
              "<style scoped>\n",
              "    .dataframe tbody tr th:only-of-type {\n",
              "        vertical-align: middle;\n",
              "    }\n",
              "\n",
              "    .dataframe tbody tr th {\n",
              "        vertical-align: top;\n",
              "    }\n",
              "\n",
              "    .dataframe thead th {\n",
              "        text-align: right;\n",
              "    }\n",
              "</style>\n",
              "<table border=\"1\" class=\"dataframe\">\n",
              "  <thead>\n",
              "    <tr style=\"text-align: right;\">\n",
              "      <th></th>\n",
              "      <th>Review</th>\n",
              "      <th>Star</th>\n",
              "      <th>label</th>\n",
              "    </tr>\n",
              "  </thead>\n",
              "  <tbody>\n",
              "    <tr>\n",
              "      <th>985</th>\n",
              "      <td>i like it(diterjemahkan oleh google)saya suka itu</td>\n",
              "      <td>1</td>\n",
              "      <td>1</td>\n",
              "    </tr>\n",
              "    <tr>\n",
              "      <th>986</th>\n",
              "      <td>ok(diterjemahkan oleh google)baik</td>\n",
              "      <td>1</td>\n",
              "      <td>1</td>\n",
              "    </tr>\n",
              "    <tr>\n",
              "      <th>987</th>\n",
              "      <td>bad services(diterjemahkan oleh google)layanan...</td>\n",
              "      <td>0</td>\n",
              "      <td>0</td>\n",
              "    </tr>\n",
              "    <tr>\n",
              "      <th>988</th>\n",
              "      <td>(diterjemahkan oleh google) buat ktp panjang k...</td>\n",
              "      <td>0</td>\n",
              "      <td>0</td>\n",
              "    </tr>\n",
              "    <tr>\n",
              "      <th>989</th>\n",
              "      <td>(diterjemahkan oleh google) tidak(asli)pas</td>\n",
              "      <td>1</td>\n",
              "      <td>1</td>\n",
              "    </tr>\n",
              "  </tbody>\n",
              "</table>\n",
              "</div>"
            ],
            "text/plain": [
              "                                                Review  Star  label\n",
              "985  i like it(diterjemahkan oleh google)saya suka itu     1      1\n",
              "986                  ok(diterjemahkan oleh google)baik     1      1\n",
              "987  bad services(diterjemahkan oleh google)layanan...     0      0\n",
              "988  (diterjemahkan oleh google) buat ktp panjang k...     0      0\n",
              "989         (diterjemahkan oleh google) tidak(asli)pas     1      1"
            ]
          },
          "metadata": {
            "tags": []
          },
          "execution_count": 29
        }
      ]
    },
    {
      "cell_type": "code",
      "metadata": {
        "colab": {
          "base_uri": "https://localhost:8080/",
          "height": 84
        },
        "id": "G5lob3FUrb5b",
        "outputId": "a9d01e55-d337-46d3-bc74-aed7348d9041"
      },
      "source": [
        "df.Review.iloc[1]"
      ],
      "execution_count": null,
      "outputs": [
        {
          "output_type": "execute_result",
          "data": {
            "application/vnd.google.colaboratory.intrinsic+json": {
              "type": "string"
            },
            "text/plain": [
              "'pelayanan lama banget. udah jam 8.20 loket masih kosong. nggak tau lagi deh mau komen apa. protokol kesehatan tidak berjalan sama sekali. cek suhu serta masker gk diterapkan... saya dateng sama istri saya disuruh nunggu luar satu... sebelah saya segambreng sekeluarga masuk aman2 aja. padahal cuma ngurus kk doang satu.'"
            ]
          },
          "metadata": {
            "tags": []
          },
          "execution_count": 30
        }
      ]
    },
    {
      "cell_type": "code",
      "metadata": {
        "colab": {
          "base_uri": "https://localhost:8080/"
        },
        "id": "HCIEw8QwlNya",
        "outputId": "0e445170-061d-4747-9681-3147650ff571"
      },
      "source": [
        "a = df['Star'].unique()\n",
        "print(sorted(a))"
      ],
      "execution_count": null,
      "outputs": [
        {
          "output_type": "stream",
          "text": [
            "[0, 1]\n"
          ],
          "name": "stdout"
        }
      ]
    },
    {
      "cell_type": "code",
      "metadata": {
        "id": "f4g6rd9z5ewt"
      },
      "source": [
        "    #rubah jadi array numpy, supaya bisa dilakukan modeling\n",
        "    from sklearn.model_selection import train_test_split\n",
        "    kalimat = df['Review'].values\n",
        "    y = df['label'].values\n",
        "    kalimat_latih, kalimat_test, y_latih, y_test = train_test_split(kalimat, y, test_size=0.2)"
      ],
      "execution_count": null,
      "outputs": []
    },
    {
      "cell_type": "code",
      "metadata": {
        "colab": {
          "base_uri": "https://localhost:8080/"
        },
        "id": "eS7bn1nE5qet",
        "outputId": "ea7edec3-4ee8-4e92-97a3-e0778dbae995"
      },
      "source": [
        "    \n",
        "    from tensorflow.keras.preprocessing.text import Tokenizer\n",
        "    from tensorflow.keras.preprocessing.sequence import pad_sequences\n",
        "    \n",
        "\n",
        "     #tokeninzing menjadi perkata, dalma bentuk array\n",
        "    tokenizer = Tokenizer(num_words=250, oov_token='x')\n",
        "    tokenizer.fit_on_texts(kalimat_latih) \n",
        "    tokenizer.fit_on_texts(kalimat_test)\n",
        "    \n",
        "     #kita pecah perkalimat\n",
        "    sekuens_latih = tokenizer.texts_to_sequences(kalimat_latih)\n",
        "    sekuens_test = tokenizer.texts_to_sequences(kalimat_test)\n",
        "     #kita bikin padding supaya setiap kalimat memiliki dimensi panjang yg sama\n",
        "    padded_latih = pad_sequences(sekuens_latih) \n",
        "    padded_test = pad_sequences(sekuens_test)\n",
        "\n",
        "    padded_latih.shape\n",
        "    voc_size = padded_latih.max()+1\n",
        "    print(voc_size)"
      ],
      "execution_count": null,
      "outputs": [
        {
          "output_type": "stream",
          "text": [
            "567\n"
          ],
          "name": "stdout"
        }
      ]
    },
    {
      "cell_type": "code",
      "metadata": {
        "id": "iULWisgz5s-q"
      },
      "source": [
        "    #membuat model Neural Network\n",
        "    import tensorflow as tf\n",
        "    model = tf.keras.Sequential([\n",
        "        tf.keras.layers.Embedding(voc_size, 16, input_length=20),\n",
        "        tf.keras.layers.LSTM(64),\n",
        "        # tf.keras.layers.GlobalAveragePooling1D(),\n",
        "        tf.keras.layers.Dense(24, activation='relu'),\n",
        "        tf.keras.layers.Dense(1, activation='sigmoid')\n",
        "    ])\n",
        "    model.compile(loss='binary_crossentropy',optimizer='adam',metrics=['accuracy'])\n",
        "\n",
        "    # #membuat model Neural Network\n",
        "    # import tensorflow as tf\n",
        "    # model = tf.keras.Sequential([\n",
        "    #     tf.keras.layers.Embedding(voc_size, 16, input_length=20),\n",
        "    #     tf.keras.layers.GlobalAveragePooling1D(),\n",
        "    #     tf.keras.layers.Dense(24, activation='relu'),\n",
        "    #     tf.keras.layers.Dense(1, activation='sigmoid')\n",
        "    # ])\n",
        "    # model.compile(loss='binary_crossentropy',optimizer='adam',metrics=['accuracy'])"
      ],
      "execution_count": null,
      "outputs": []
    },
    {
      "cell_type": "code",
      "metadata": {
        "colab": {
          "base_uri": "https://localhost:8080/"
        },
        "id": "uhULm8_W6ztq",
        "outputId": "f9ef554a-7873-481e-eb5b-36a65a3ea675"
      },
      "source": [
        "    #melakukan pelatihan model NN sebanyak 30 kali epoch\n",
        "    num_epochs = 30\n",
        "    history = model.fit(padded_latih, y_latih, epochs=num_epochs, \n",
        "                        validation_data=(padded_test, y_test), verbose=2)"
      ],
      "execution_count": null,
      "outputs": [
        {
          "output_type": "stream",
          "text": [
            "Epoch 1/30\n",
            "WARNING:tensorflow:Model was constructed with shape (None, 20) for input KerasTensor(type_spec=TensorSpec(shape=(None, 20), dtype=tf.float32, name='embedding_input'), name='embedding_input', description=\"created by layer 'embedding_input'\"), but it was called on an input with incompatible shape (None, 59).\n",
            "WARNING:tensorflow:Model was constructed with shape (None, 20) for input KerasTensor(type_spec=TensorSpec(shape=(None, 20), dtype=tf.float32, name='embedding_input'), name='embedding_input', description=\"created by layer 'embedding_input'\"), but it was called on an input with incompatible shape (None, 59).\n",
            "WARNING:tensorflow:Model was constructed with shape (None, 20) for input KerasTensor(type_spec=TensorSpec(shape=(None, 20), dtype=tf.float32, name='embedding_input'), name='embedding_input', description=\"created by layer 'embedding_input'\"), but it was called on an input with incompatible shape (None, 69).\n",
            "25/25 - 3s - loss: 0.6594 - accuracy: 0.6629 - val_loss: 0.6077 - val_accuracy: 0.7020\n",
            "Epoch 2/30\n",
            "25/25 - 1s - loss: 0.6057 - accuracy: 0.6692 - val_loss: 0.6177 - val_accuracy: 0.6313\n",
            "Epoch 3/30\n",
            "25/25 - 1s - loss: 0.5928 - accuracy: 0.6932 - val_loss: 0.5902 - val_accuracy: 0.6818\n",
            "Epoch 4/30\n",
            "25/25 - 1s - loss: 0.5701 - accuracy: 0.7109 - val_loss: 0.5719 - val_accuracy: 0.6970\n",
            "Epoch 5/30\n",
            "25/25 - 1s - loss: 0.5298 - accuracy: 0.7361 - val_loss: 0.5672 - val_accuracy: 0.7121\n",
            "Epoch 6/30\n",
            "25/25 - 1s - loss: 0.4739 - accuracy: 0.7753 - val_loss: 0.6417 - val_accuracy: 0.7222\n",
            "Epoch 7/30\n",
            "25/25 - 1s - loss: 0.4250 - accuracy: 0.7866 - val_loss: 0.5251 - val_accuracy: 0.7424\n",
            "Epoch 8/30\n",
            "25/25 - 1s - loss: 0.3890 - accuracy: 0.8144 - val_loss: 0.5097 - val_accuracy: 0.7727\n",
            "Epoch 9/30\n",
            "25/25 - 1s - loss: 0.3525 - accuracy: 0.8359 - val_loss: 0.6383 - val_accuracy: 0.7677\n",
            "Epoch 10/30\n",
            "25/25 - 1s - loss: 0.3132 - accuracy: 0.8573 - val_loss: 0.5994 - val_accuracy: 0.7879\n",
            "Epoch 11/30\n",
            "25/25 - 1s - loss: 0.3009 - accuracy: 0.8636 - val_loss: 0.6851 - val_accuracy: 0.8030\n",
            "Epoch 12/30\n",
            "25/25 - 1s - loss: 0.2740 - accuracy: 0.8763 - val_loss: 0.7506 - val_accuracy: 0.7929\n",
            "Epoch 13/30\n",
            "25/25 - 1s - loss: 0.2705 - accuracy: 0.8788 - val_loss: 0.8107 - val_accuracy: 0.7929\n",
            "Epoch 14/30\n",
            "25/25 - 1s - loss: 0.3693 - accuracy: 0.8270 - val_loss: 0.5468 - val_accuracy: 0.7929\n",
            "Epoch 15/30\n",
            "25/25 - 1s - loss: 0.3396 - accuracy: 0.8409 - val_loss: 0.6431 - val_accuracy: 0.7727\n",
            "Epoch 16/30\n",
            "25/25 - 1s - loss: 0.2864 - accuracy: 0.8687 - val_loss: 0.7038 - val_accuracy: 0.7929\n",
            "Epoch 17/30\n",
            "25/25 - 1s - loss: 0.2526 - accuracy: 0.8876 - val_loss: 0.7723 - val_accuracy: 0.7980\n",
            "Epoch 18/30\n",
            "25/25 - 1s - loss: 0.2357 - accuracy: 0.8939 - val_loss: 0.7803 - val_accuracy: 0.8030\n",
            "Epoch 19/30\n",
            "25/25 - 1s - loss: 0.2277 - accuracy: 0.9053 - val_loss: 0.8848 - val_accuracy: 0.7980\n",
            "Epoch 20/30\n",
            "25/25 - 1s - loss: 0.2206 - accuracy: 0.9129 - val_loss: 0.8215 - val_accuracy: 0.7778\n",
            "Epoch 21/30\n",
            "25/25 - 1s - loss: 0.2349 - accuracy: 0.9028 - val_loss: 0.8951 - val_accuracy: 0.7879\n",
            "Epoch 22/30\n",
            "25/25 - 1s - loss: 0.2137 - accuracy: 0.9167 - val_loss: 0.9589 - val_accuracy: 0.7929\n",
            "Epoch 23/30\n",
            "25/25 - 1s - loss: 0.2074 - accuracy: 0.9205 - val_loss: 0.9892 - val_accuracy: 0.7828\n",
            "Epoch 24/30\n",
            "25/25 - 1s - loss: 0.1976 - accuracy: 0.9242 - val_loss: 1.1042 - val_accuracy: 0.7980\n",
            "Epoch 25/30\n",
            "25/25 - 1s - loss: 0.2377 - accuracy: 0.9104 - val_loss: 0.8268 - val_accuracy: 0.7677\n",
            "Epoch 26/30\n",
            "25/25 - 1s - loss: 0.2139 - accuracy: 0.9141 - val_loss: 0.8770 - val_accuracy: 0.7828\n",
            "Epoch 27/30\n",
            "25/25 - 1s - loss: 0.2043 - accuracy: 0.9217 - val_loss: 0.9537 - val_accuracy: 0.7929\n",
            "Epoch 28/30\n",
            "25/25 - 1s - loss: 0.1963 - accuracy: 0.9255 - val_loss: 0.9576 - val_accuracy: 0.7576\n",
            "Epoch 29/30\n",
            "25/25 - 1s - loss: 0.1879 - accuracy: 0.9268 - val_loss: 1.0058 - val_accuracy: 0.7778\n",
            "Epoch 30/30\n",
            "25/25 - 1s - loss: 0.1877 - accuracy: 0.9306 - val_loss: 1.0824 - val_accuracy: 0.7828\n"
          ],
          "name": "stdout"
        }
      ]
    },
    {
      "cell_type": "code",
      "metadata": {
        "id": "ZQO6wsvDx7W8"
      },
      "source": [
        "import pickle\n",
        "weigh = model.get_weights();    pklfile= \"modelweights.pkl\"\n",
        "\n",
        "fpkl= open(pklfile, 'wb')    #Python 3     \n",
        "pickle.dump(weigh, fpkl, protocol= pickle.HIGHEST_PROTOCOL)\n",
        "fpkl.close()\n",
        "\n",
        "model.save(\"my_model.h5\") #using h5 extension"
      ],
      "execution_count": null,
      "outputs": []
    },
    {
      "cell_type": "code",
      "metadata": {
        "colab": {
          "base_uri": "https://localhost:8080/",
          "height": 264
        },
        "id": "6f-VdJjH66vN",
        "outputId": "994a4552-1bae-4b9b-e445-959b172320de"
      },
      "source": [
        "#Tampilkan loss dari data training dan testing dalam bentuk plot\n",
        "from matplotlib import pyplot\n",
        "pyplot.plot(history.history['loss'], label='train')\n",
        "pyplot.plot(history.history['val_loss'], label='test')\n",
        "pyplot.legend()\n",
        "pyplot.show()"
      ],
      "execution_count": null,
      "outputs": [
        {
          "output_type": "display_data",
          "data": {
            "image/png": "[encoded data removed]",
            "text/plain": [
              "<Figure size 432x288 with 1 Axes>"
            ]
          },
          "metadata": {
            "tags": [],
            "needs_background": "light"
          }
        }
      ]
    },
    {
      "cell_type": "code",
      "metadata": {
        "colab": {
          "base_uri": "https://localhost:8080/",
          "height": 264
        },
        "id": "ATL6LphANus9",
        "outputId": "d92c9861-565a-4f43-f40e-9a3095668213"
      },
      "source": [
        "#Tampilkan loss dari data training dan testing dalam bentuk plot\n",
        "from matplotlib import pyplot\n",
        "pyplot.plot(history.history['accuracy'], label='train')\n",
        "pyplot.plot(history.history['val_accuracy'], label='test')\n",
        "pyplot.legend()\n",
        "pyplot.show()"
      ],
      "execution_count": null,
      "outputs": [
        {
          "output_type": "display_data",
          "data": {
            "image/png": "[encoded data removed]",
            "text/plain": [
              "<Figure size 432x288 with 1 Axes>"
            ]
          },
          "metadata": {
            "tags": [],
            "needs_background": "light"
          }
        }
      ]
    },
    {
      "cell_type": "code",
      "metadata": {
        "colab": {
          "base_uri": "https://localhost:8080/"
        },
        "id": "vyhrDd_K7C5v",
        "outputId": "673caa14-f243-4512-ac08-cfed30a6480c"
      },
      "source": [
        "from tensorflow.keras.preprocessing.text import Tokenizer\n",
        "from tensorflow.keras.preprocessing import sequence\n",
        "\n",
        "\n",
        "\n",
        "def predict_sentimen(kata):\n",
        "    coba =[]\n",
        "    kata = kata.replace('RT', ' ')\n",
        "    kata = kata.replace('\\n', ' ')\n",
        "    kata = kata.replace('https?:\\/\\/.*[\\r\\n]*', ' ')\n",
        "    kata = str.lower(kata)\n",
        "    coba.append(kata)\n",
        "    tokenizer.fit_on_texts(coba) \n",
        "    sequence_coba = tokenizer.texts_to_sequences(coba)\n",
        "    padded_coba = pad_sequences(sequence_coba) \n",
        "    # padded_coba\n",
        "    coba_hasil = sequence.pad_sequences(padded_coba)\n",
        "    hasil_prediksi = model.predict(coba_hasil)[0][0]\n",
        "    if hasil_prediksi > 0.6:\n",
        "        sentimen = \"Positif\"\n",
        "    else:\n",
        "        sentimen = \"Negatif\"\n",
        "    print(\"Kalimat :\\n\", kata)\n",
        "    print(\"Sentimen :\\n\", sentimen)\n",
        "    print(\"Akurasi prediksi :\\n\",hasil_prediksi)\n",
        "\n",
        "\n",
        "input_tweet = input(\"Masukkan kalimat/tweet yang ingin anda analisa sentimennya :\")\n",
        "predict_sentimen(input_tweet)"
      ],
      "execution_count": null,
      "outputs": [
        {
          "output_type": "stream",
          "text": [
            "Masukkan kalimat/tweet yang ingin anda analisa sentimennya :kurang memuasakan\n",
            "Kalimat :\n",
            " kurang memuasakan\n",
            "Sentimen :\n",
            " Negatif\n",
            "Akurasi prediksi :\n",
            " 0.011075556\n"
          ],
          "name": "stdout"
        }
      ]
    }
  ]
}