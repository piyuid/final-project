{
 "cells": [
  {
   "cell_type": "code",
   "execution_count": 26,
   "metadata": {},
   "outputs": [],
   "source": [
    "import random\n",
    "import csv"
   ]
  },
  {
   "cell_type": "code",
   "execution_count": 38,
   "metadata": {},
   "outputs": [],
   "source": [
    "def getRandom():\n",
    "    return int(random.random()*1000)\n",
    "\n",
    "def generateData():\n",
    "    output = []\n",
    "    output.append(['x1','x2','x3','x4','x5','x6','y'])\n",
    "    for i in range(0, 50000):\n",
    "        x1=getRandom()\n",
    "        x2=getRandom()\n",
    "        x3=getRandom()\n",
    "        x4=getRandom()\n",
    "        x5=getRandom()\n",
    "        x6=getRandom()        \n",
    "        y=x1+x2+x3+x4+x5-x6\n",
    "        output.append([x1,x2,x3,x4,x5,x6,y])\n",
    "        \n",
    "    with open('generated_dataset.csv', 'w', newline='') as fp:\n",
    "        a = csv.writer(fp, delimiter=',')\n",
    "        a.writerows(output)   "
   ]
  },
  {
   "cell_type": "code",
   "execution_count": 39,
   "metadata": {},
   "outputs": [],
   "source": [
    "generateData()    "
   ]
  },
  {
   "cell_type": "code",
   "execution_count": null,
   "metadata": {},
   "outputs": [],
   "source": []
  }
 ],
 "metadata": {
  "kernelspec": {
   "display_name": "Python 3",
   "language": "python",
   "name": "python3"
  },
  "language_info": {
   "codemirror_mode": {
    "name": "ipython",
    "version": 3
   },
   "file_extension": ".py",
   "mimetype": "text/x-python",
   "name": "python",
   "nbconvert_exporter": "python",
   "pygments_lexer": "ipython3",
   "version": "3.6.7"
  }
 },
 "nbformat": 4,
 "nbformat_minor": 2
}
